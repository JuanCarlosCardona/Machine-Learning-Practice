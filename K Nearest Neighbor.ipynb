{
 "cells": [
  {
   "cell_type": "code",
   "execution_count": 2,
   "id": "bc394b9a",
   "metadata": {
    "pycharm": {
     "name": "#%%\n"
    }
   },
   "outputs": [],
   "source": [
    "import pandas as pd\n",
    "import numpy as np"
   ]
  },
  {
   "cell_type": "code",
   "execution_count": 3,
   "id": "ca740fec",
   "metadata": {
    "pycharm": {
     "name": "#%%\n"
    }
   },
   "outputs": [],
   "source": [
    "# Returns a pandas series\n",
    "def euclidean_distance(x, y):\n",
    "    \n",
    "    # Applying the euclidean distance formula in dataset\n",
    "    # sqrt(sum(pow(elements_of_dataset - new_item, 2)))\n",
    "    return (x[['Height', 'Weight', 'Age']] - np.array(y)).pow(2).sum(1).pow(0.5)\n",
    "\n",
    "\n",
    "# Updates the distance from the new item to every posible neighbour\n",
    "# returns a sorted list\n",
    "def update_neighbours(neighbours, distance, item, k):\n",
    "    \n",
    "    if len(neighbours) < k:\n",
    "        \n",
    "        neighbours.append([distance[1], item[-1]])\n",
    "        neighbours = sorted(neighbours)\n",
    "        \n",
    "    else:\n",
    "        \n",
    "        if neighbours[-1][0] > distance[1]:\n",
    "            neighbours[-1] = [distance[1], item[-1]]\n",
    "            neighbours = sorted(neighbours)\n",
    "            \n",
    "    return neighbours\n",
    " \n",
    "# returns the count of every classification apperance in the neighbours list\n",
    "def calculate_neighbours_class(neighbours, k):\n",
    "    classes = {}\n",
    "    \n",
    "    for i in range(k):\n",
    "        \n",
    "        if neighbours[i][1] not in classes:\n",
    "            classes[neighbours[i][1]] = 1\n",
    "        else:\n",
    "            classes[neighbours[i][1]] += 1\n",
    "    \n",
    "    return classes\n",
    "\n",
    "# Returns the most common neighbour\n",
    "def find_most_common_neighbour(classes):\n",
    "    \n",
    "    common = -1\n",
    "    \n",
    "    classification = ''\n",
    "    \n",
    "    for key in classes.keys():\n",
    "        \n",
    "        if classes[key] > common:\n",
    "            common = classes[key]\n",
    "            classification = key\n",
    "    \n",
    "    return classification, common\n",
    "    "
   ]
  },
  {
   "cell_type": "code",
   "execution_count": 4,
   "id": "5ad905e2",
   "metadata": {
    "pycharm": {
     "name": "#%%\n"
    }
   },
   "outputs": [],
   "source": [
    "def classify(new_item, k, items):\n",
    "    \n",
    "    if k > items.size:\n",
    "        return 'k is larger than dataset'\n",
    "    \n",
    "    # Get euclidean distance between new item and existing ones    \n",
    "    euclidean_distances = euclidean_distance(items, new_item) \n",
    "\n",
    "    neighbours = []\n",
    "    \n",
    "    \n",
    "    for distance, item in zip(euclidean_distances.iteritems(), items.itertuples()):\n",
    "        \n",
    "        neighbours = update_neighbours(neighbours, distance, item, k)\n",
    "\n",
    "    # Gets closest neighbours comparing the distance between each item\n",
    "    #neighbours = [update_neighbours(neighbours, distance, item, k) \n",
    "                  #for distance, item in zip(euclidean_distances.iteritems(),items.itertuples(index=False))]\n",
    "    \n",
    "    neighbours_classes = calculate_neighbours_class(neighbours, k)\n",
    "    \n",
    "    return find_most_common_neighbour(neighbours_classes)\n",
    "    "
   ]
  },
  {
   "cell_type": "code",
   "execution_count": 5,
   "id": "1a75e286",
   "metadata": {
    "pycharm": {
     "name": "#%%\n"
    }
   },
   "outputs": [
    {
     "name": "stdout",
     "output_type": "stream",
     "text": [
      "   Height  Weight  Age       Class\n",
      "0    1.70      65   20  Programmer\n",
      "1    1.90      85   33     Builder\n",
      "2    1.78      76   31     Builder\n",
      "3    1.73      74   24  Programmer\n",
      "4    1.81      75   35     Builder\n",
      "\n",
      "<class 'pandas.core.frame.DataFrame'>\n",
      "RangeIndex: 8 entries, 0 to 7\n",
      "Data columns (total 4 columns):\n",
      " #   Column  Non-Null Count  Dtype  \n",
      "---  ------  --------------  -----  \n",
      " 0   Height  8 non-null      float64\n",
      " 1   Weight  8 non-null      int64  \n",
      " 2   Age     8 non-null      int64  \n",
      " 3   Class   8 non-null      object \n",
      "dtypes: float64(1), int64(2), object(1)\n",
      "memory usage: 384.0+ bytes\n",
      "None\n"
     ]
    }
   ],
   "source": [
    "data = {\n",
    "    'Height':[1.70, 1.90, 1.78, 1.73, 1.81, 1.73, 1.80, 1.75],\n",
    "    'Weight':[65, 85, 76, 74, 75, 70, 71, 69],\n",
    "    'Age':[20, 33, 31, 24, 35, 75, 63, 25],\n",
    "    'Class':['Programmer', 'Builder', 'Builder', 'Programmer', 'Builder', 'Scientist', 'Scientist', 'Programmer']\n",
    "}\n",
    "\n",
    "df = pd.DataFrame(data)\n",
    "\n",
    "print(df.head())\n",
    "print()\n",
    "print(df.info())\n"
   ]
  },
  {
   "cell_type": "code",
   "execution_count": 6,
   "id": "c0299190",
   "metadata": {
    "pycharm": {
     "name": "#%%\n"
    }
   },
   "outputs": [
    {
     "data": {
      "text/plain": "('Scientist', 1)"
     },
     "execution_count": 6,
     "metadata": {},
     "output_type": "execute_result"
    }
   ],
   "source": [
    "test_item = pd.DataFrame({'Height': [1.90], 'Weight':[65], 'Age':[52]})\n",
    "\n",
    "df = df.sample(frac=1)\n",
    "\n",
    "classify(test_item, 2, df)"
   ]
  },
  {
   "cell_type": "code",
   "execution_count": null,
   "id": "4677cf06",
   "metadata": {
    "pycharm": {
     "name": "#%%\n"
    }
   },
   "outputs": [],
   "source": []
  },
  {
   "cell_type": "code",
   "execution_count": null,
   "id": "0810d8fa",
   "metadata": {
    "pycharm": {
     "name": "#%%\n"
    }
   },
   "outputs": [],
   "source": []
  }
 ],
 "metadata": {
  "kernelspec": {
   "display_name": "Python 3 (ipykernel)",
   "language": "python",
   "name": "python3"
  },
  "language_info": {
   "codemirror_mode": {
    "name": "ipython",
    "version": 3
   },
   "file_extension": ".py",
   "mimetype": "text/x-python",
   "name": "python",
   "nbconvert_exporter": "python",
   "pygments_lexer": "ipython3",
   "version": "3.10.4"
  }
 },
 "nbformat": 4,
 "nbformat_minor": 5
}